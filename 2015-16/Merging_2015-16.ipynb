{
 "cells": [
  {
   "cell_type": "markdown",
   "id": "6ec29ba0",
   "metadata": {},
   "source": [
    "# Merging table header"
   ]
  },
  {
   "cell_type": "code",
   "execution_count": 13,
   "id": "c8aee4e2",
   "metadata": {},
   "outputs": [],
   "source": [
    "import pandas as pd\n",
    "import os"
   ]
  },
  {
   "cell_type": "code",
   "execution_count": 14,
   "id": "3b207ef9",
   "metadata": {},
   "outputs": [],
   "source": [
    "path = os.path.join(os.getcwd(), \"Dictionary/\")\n",
    "path_file = os.path.join(os.getcwd(), \"Dictionary/Attributes_2015-16.csv\")"
   ]
  },
  {
   "cell_type": "code",
   "execution_count": 15,
   "id": "84ced020",
   "metadata": {},
   "outputs": [
    {
     "data": {
      "text/plain": [
       "18"
      ]
     },
     "execution_count": 15,
     "metadata": {},
     "output_type": "execute_result"
    }
   ],
   "source": [
    "dfs = []\n",
    "\n",
    "# Iterate over each file in the directory\n",
    "for filename in os.listdir(path):\n",
    "    if filename.startswith('Chapter') and filename.endswith('.csv'):\n",
    "        file_path = os.path.join(path, filename)\n",
    "        # Read the CSV file into a DataFrame without header\n",
    "        df = pd.read_csv(file_path, sep=';', dtype={'Table_id': str})\n",
    "        #print(df[['Chapter_id','Table_id']].loc[:,])\n",
    "        dfs.append(df)\n",
    "        \n",
    "len(dfs)"
   ]
  },
  {
   "cell_type": "code",
   "execution_count": 16,
   "id": "eb687055",
   "metadata": {},
   "outputs": [
    {
     "data": {
      "text/html": [
       "<div>\n",
       "<style scoped>\n",
       "    .dataframe tbody tr th:only-of-type {\n",
       "        vertical-align: middle;\n",
       "    }\n",
       "\n",
       "    .dataframe tbody tr th {\n",
       "        vertical-align: top;\n",
       "    }\n",
       "\n",
       "    .dataframe thead th {\n",
       "        text-align: right;\n",
       "    }\n",
       "</style>\n",
       "<table border=\"1\" class=\"dataframe\">\n",
       "  <thead>\n",
       "    <tr style=\"text-align: right;\">\n",
       "      <th></th>\n",
       "      <th>Attr_id</th>\n",
       "      <th>Chapter_id</th>\n",
       "      <th>Chapter_name</th>\n",
       "      <th>Table_id</th>\n",
       "      <th>Table_name</th>\n",
       "      <th>Description</th>\n",
       "    </tr>\n",
       "  </thead>\n",
       "  <tbody>\n",
       "    <tr>\n",
       "      <th>0</th>\n",
       "      <td>866.0</td>\n",
       "      <td>14</td>\n",
       "      <td>Rural Development &amp; Panchayat Raj</td>\n",
       "      <td>14.1</td>\n",
       "      <td>Forest Area E.s.t.p and N.r.l.m Year 2015-16 I...</td>\n",
       "      <td>Forest Area Area in Square Kilometres,Forest D...</td>\n",
       "    </tr>\n",
       "    <tr>\n",
       "      <th>1</th>\n",
       "      <td>867.0</td>\n",
       "      <td>14</td>\n",
       "      <td>Rural Development &amp; Panchayat Raj</td>\n",
       "      <td>14.1</td>\n",
       "      <td>Forest Area E.s.t.p and N.r.l.m Year 2015-16 I...</td>\n",
       "      <td>Saplings Planted In Lakhs,Forest Department</td>\n",
       "    </tr>\n",
       "    <tr>\n",
       "      <th>2</th>\n",
       "      <td>868.0</td>\n",
       "      <td>14</td>\n",
       "      <td>Rural Development &amp; Panchayat Raj</td>\n",
       "      <td>14.1</td>\n",
       "      <td>Forest Area E.s.t.p and N.r.l.m Year 2015-16 I...</td>\n",
       "      <td>Selfemployment Small enterprises training,Empl...</td>\n",
       "    </tr>\n",
       "    <tr>\n",
       "      <th>3</th>\n",
       "      <td>869.0</td>\n",
       "      <td>14</td>\n",
       "      <td>Rural Development &amp; Panchayat Raj</td>\n",
       "      <td>14.1</td>\n",
       "      <td>Forest Area E.s.t.p and N.r.l.m Year 2015-16 I...</td>\n",
       "      <td>Wage employment Mandays,Employment through Ski...</td>\n",
       "    </tr>\n",
       "    <tr>\n",
       "      <th>4</th>\n",
       "      <td>870.0</td>\n",
       "      <td>14</td>\n",
       "      <td>Rural Development &amp; Panchayat Raj</td>\n",
       "      <td>14.1</td>\n",
       "      <td>Forest Area E.s.t.p and N.r.l.m Year 2015-16 I...</td>\n",
       "      <td>Total,Numberof Groups under Nrlm 2015-16</td>\n",
       "    </tr>\n",
       "    <tr>\n",
       "      <th>...</th>\n",
       "      <td>...</td>\n",
       "      <td>...</td>\n",
       "      <td>...</td>\n",
       "      <td>...</td>\n",
       "      <td>...</td>\n",
       "      <td>...</td>\n",
       "    </tr>\n",
       "    <tr>\n",
       "      <th>1162</th>\n",
       "      <td>389.0</td>\n",
       "      <td>5</td>\n",
       "      <td>Animal Husbandry</td>\n",
       "      <td>5.4</td>\n",
       "      <td>Fisheries Year 2015-16</td>\n",
       "      <td>Full Time,Families involved in fisheries</td>\n",
       "    </tr>\n",
       "    <tr>\n",
       "      <th>1163</th>\n",
       "      <td>390.0</td>\n",
       "      <td>5</td>\n",
       "      <td>Animal Husbandry</td>\n",
       "      <td>5.4</td>\n",
       "      <td>Fisheries Year 2015-16</td>\n",
       "      <td>Part Time,Families involved in fisheries</td>\n",
       "    </tr>\n",
       "    <tr>\n",
       "      <th>1164</th>\n",
       "      <td>391.0</td>\n",
       "      <td>5</td>\n",
       "      <td>Animal Husbandry</td>\n",
       "      <td>5.4</td>\n",
       "      <td>Fisheries Year 2015-16</td>\n",
       "      <td>No.of Beneficiaries under Mathsasrayascheme</td>\n",
       "    </tr>\n",
       "    <tr>\n",
       "      <th>1165</th>\n",
       "      <td>392.0</td>\n",
       "      <td>5</td>\n",
       "      <td>Animal Husbandry</td>\n",
       "      <td>5.4</td>\n",
       "      <td>Fisheries Year 2015-16</td>\n",
       "      <td>Fish lets In lakhs</td>\n",
       "    </tr>\n",
       "    <tr>\n",
       "      <th>1166</th>\n",
       "      <td>393.0</td>\n",
       "      <td>5</td>\n",
       "      <td>Animal Husbandry</td>\n",
       "      <td>5.4</td>\n",
       "      <td>Fisheries Year 2015-16</td>\n",
       "      <td>Fish markets No</td>\n",
       "    </tr>\n",
       "  </tbody>\n",
       "</table>\n",
       "<p>1167 rows × 6 columns</p>\n",
       "</div>"
      ],
      "text/plain": [
       "      Attr_id  Chapter_id                       Chapter_name Table_id  \\\n",
       "0       866.0          14  Rural Development & Panchayat Raj     14.1   \n",
       "1       867.0          14  Rural Development & Panchayat Raj     14.1   \n",
       "2       868.0          14  Rural Development & Panchayat Raj     14.1   \n",
       "3       869.0          14  Rural Development & Panchayat Raj     14.1   \n",
       "4       870.0          14  Rural Development & Panchayat Raj     14.1   \n",
       "...       ...         ...                                ...      ...   \n",
       "1162    389.0           5                   Animal Husbandry      5.4   \n",
       "1163    390.0           5                   Animal Husbandry      5.4   \n",
       "1164    391.0           5                   Animal Husbandry      5.4   \n",
       "1165    392.0           5                   Animal Husbandry      5.4   \n",
       "1166    393.0           5                   Animal Husbandry      5.4   \n",
       "\n",
       "                                             Table_name  \\\n",
       "0     Forest Area E.s.t.p and N.r.l.m Year 2015-16 I...   \n",
       "1     Forest Area E.s.t.p and N.r.l.m Year 2015-16 I...   \n",
       "2     Forest Area E.s.t.p and N.r.l.m Year 2015-16 I...   \n",
       "3     Forest Area E.s.t.p and N.r.l.m Year 2015-16 I...   \n",
       "4     Forest Area E.s.t.p and N.r.l.m Year 2015-16 I...   \n",
       "...                                                 ...   \n",
       "1162                             Fisheries Year 2015-16   \n",
       "1163                             Fisheries Year 2015-16   \n",
       "1164                             Fisheries Year 2015-16   \n",
       "1165                             Fisheries Year 2015-16   \n",
       "1166                             Fisheries Year 2015-16   \n",
       "\n",
       "                                            Description  \n",
       "0     Forest Area Area in Square Kilometres,Forest D...  \n",
       "1           Saplings Planted In Lakhs,Forest Department  \n",
       "2     Selfemployment Small enterprises training,Empl...  \n",
       "3     Wage employment Mandays,Employment through Ski...  \n",
       "4              Total,Numberof Groups under Nrlm 2015-16  \n",
       "...                                                 ...  \n",
       "1162           Full Time,Families involved in fisheries  \n",
       "1163           Part Time,Families involved in fisheries  \n",
       "1164        No.of Beneficiaries under Mathsasrayascheme  \n",
       "1165                                 Fish lets In lakhs  \n",
       "1166                                    Fish markets No  \n",
       "\n",
       "[1167 rows x 6 columns]"
      ]
     },
     "execution_count": 16,
     "metadata": {},
     "output_type": "execute_result"
    }
   ],
   "source": [
    "# Concatenate all DataFrames into a single DataFrame\n",
    "merged_df = pd.concat(dfs, ignore_index=True)\n",
    "\n",
    "# Display the merged DataFrame\n",
    "merged_df.columns = ['Attr_id', 'Chapter_id', 'Chapter_name', 'Table_id', 'Table_name', 'Description']\n",
    "merged_df"
   ]
  },
  {
   "cell_type": "code",
   "execution_count": 17,
   "id": "ed3aeeff",
   "metadata": {},
   "outputs": [],
   "source": [
    "merged_df = merged_df.sort_values(by=['Attr_id'])"
   ]
  },
  {
   "cell_type": "code",
   "execution_count": 18,
   "id": "3187c798",
   "metadata": {},
   "outputs": [
    {
     "data": {
      "text/html": [
       "<div>\n",
       "<style scoped>\n",
       "    .dataframe tbody tr th:only-of-type {\n",
       "        vertical-align: middle;\n",
       "    }\n",
       "\n",
       "    .dataframe tbody tr th {\n",
       "        vertical-align: top;\n",
       "    }\n",
       "\n",
       "    .dataframe thead th {\n",
       "        text-align: right;\n",
       "    }\n",
       "</style>\n",
       "<table border=\"1\" class=\"dataframe\">\n",
       "  <thead>\n",
       "    <tr style=\"text-align: right;\">\n",
       "      <th></th>\n",
       "      <th>Attr_id</th>\n",
       "      <th>Chapter_id</th>\n",
       "      <th>Chapter_name</th>\n",
       "      <th>Table_id</th>\n",
       "      <th>Table_name</th>\n",
       "      <th>Description</th>\n",
       "    </tr>\n",
       "  </thead>\n",
       "  <tbody>\n",
       "    <tr>\n",
       "      <th>944</th>\n",
       "      <td>670.1</td>\n",
       "      <td>11</td>\n",
       "      <td>Health &amp; Family welfare Services</td>\n",
       "      <td>11.3</td>\n",
       "      <td>Allopathy Hospitals Indian System of Medicine ...</td>\n",
       "      <td>Nos,Indian System of Medicine</td>\n",
       "    </tr>\n",
       "  </tbody>\n",
       "</table>\n",
       "</div>"
      ],
      "text/plain": [
       "     Attr_id  Chapter_id                      Chapter_name Table_id  \\\n",
       "944    670.1          11  Health & Family welfare Services     11.3   \n",
       "\n",
       "                                            Table_name  \\\n",
       "944  Allopathy Hospitals Indian System of Medicine ...   \n",
       "\n",
       "                       Description  \n",
       "944  Nos,Indian System of Medicine  "
      ]
     },
     "execution_count": 18,
     "metadata": {},
     "output_type": "execute_result"
    }
   ],
   "source": [
    "merged_df[merged_df['Attr_id']==670.1]"
   ]
  },
  {
   "cell_type": "code",
   "execution_count": 19,
   "id": "69cdcd62",
   "metadata": {},
   "outputs": [],
   "source": [
    "merged_df.to_csv(path_file, sep=';', index=False)"
   ]
  },
  {
   "cell_type": "code",
   "execution_count": 20,
   "id": "78c0b46c",
   "metadata": {},
   "outputs": [
    {
     "name": "stdout",
     "output_type": "stream",
     "text": [
      "115\n",
      "116\n",
      "117\n",
      "118\n",
      "119\n",
      "982\n",
      "983\n",
      "984\n",
      "985\n",
      "986\n",
      "987\n",
      "988\n",
      "989\n",
      "990\n",
      "991\n"
     ]
    }
   ],
   "source": [
    "for i in range(3,1183):\n",
    "    if i not in set(merged_df['Attr_id']):\n",
    "       print(i)"
   ]
  },
  {
   "cell_type": "markdown",
   "id": "7f4d55e1",
   "metadata": {},
   "source": [
    "These columns are not present as they have \"Age group\" data"
   ]
  },
  {
   "cell_type": "code",
   "execution_count": null,
   "id": "e6a3b69c",
   "metadata": {},
   "outputs": [],
   "source": []
  }
 ],
 "metadata": {
  "kernelspec": {
   "display_name": "Python 3 (ipykernel)",
   "language": "python",
   "name": "python3"
  },
  "language_info": {
   "codemirror_mode": {
    "name": "ipython",
    "version": 3
   },
   "file_extension": ".py",
   "mimetype": "text/x-python",
   "name": "python",
   "nbconvert_exporter": "python",
   "pygments_lexer": "ipython3",
   "version": "3.10.12"
  }
 },
 "nbformat": 4,
 "nbformat_minor": 5
}
