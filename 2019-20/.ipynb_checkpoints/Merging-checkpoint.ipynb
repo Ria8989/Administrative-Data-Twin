{
 "cells": [
  {
   "cell_type": "markdown",
   "id": "6ec29ba0",
   "metadata": {},
   "source": [
    "# Merging table header"
   ]
  },
  {
   "cell_type": "code",
   "execution_count": 1,
   "id": "c8aee4e2",
   "metadata": {},
   "outputs": [],
   "source": [
    "import pandas as pd\n",
    "import os"
   ]
  },
  {
   "cell_type": "code",
   "execution_count": 2,
   "id": "3b207ef9",
   "metadata": {},
   "outputs": [],
   "source": [
    "path = \"/home/riya/Downloads/ADT/2019-20/Dictionary/\""
   ]
  },
  {
   "cell_type": "code",
   "execution_count": 3,
   "id": "2015ef61",
   "metadata": {},
   "outputs": [],
   "source": [
    "os.chdir(path)"
   ]
  },
  {
   "cell_type": "code",
   "execution_count": 4,
   "id": "e6071b90",
   "metadata": {},
   "outputs": [
    {
     "data": {
      "text/plain": [
       "17"
      ]
     },
     "execution_count": 4,
     "metadata": {},
     "output_type": "execute_result"
    }
   ],
   "source": [
    "dfs = []\n",
    "\n",
    "# Iterate over each file in the directory\n",
    "for filename in os.listdir():\n",
    "    if filename.startswith('Chapter') and filename.endswith('.csv'):\n",
    "        file_path = os.path.join(path, filename)\n",
    "        # Read the CSV file into a DataFrame without header\n",
    "        df = pd.read_csv(file_path, sep=';', dtype={'Table_id': str})\n",
    "        #print(df[['Chapter_id','Table_id']].loc[:,])\n",
    "        dfs.append(df)\n",
    "\n",
    "\n",
    "len(dfs)"
   ]
  },
  {
   "cell_type": "code",
   "execution_count": 5,
   "id": "eb687055",
   "metadata": {},
   "outputs": [
    {
     "data": {
      "text/html": [
       "<div>\n",
       "<style scoped>\n",
       "    .dataframe tbody tr th:only-of-type {\n",
       "        vertical-align: middle;\n",
       "    }\n",
       "\n",
       "    .dataframe tbody tr th {\n",
       "        vertical-align: top;\n",
       "    }\n",
       "\n",
       "    .dataframe thead th {\n",
       "        text-align: right;\n",
       "    }\n",
       "</style>\n",
       "<table border=\"1\" class=\"dataframe\">\n",
       "  <thead>\n",
       "    <tr style=\"text-align: right;\">\n",
       "      <th></th>\n",
       "      <th>Attr_id</th>\n",
       "      <th>Chapter_id</th>\n",
       "      <th>Chapter_name</th>\n",
       "      <th>Table_id</th>\n",
       "      <th>Table_name</th>\n",
       "      <th>Description</th>\n",
       "    </tr>\n",
       "  </thead>\n",
       "  <tbody>\n",
       "    <tr>\n",
       "      <th>0</th>\n",
       "      <td>1376</td>\n",
       "      <td>14</td>\n",
       "      <td>Rural Development and Panchayat Raj</td>\n",
       "      <td>14.1</td>\n",
       "      <td>Skill Development and Self Employment at the e...</td>\n",
       "      <td>Ddu-gky,Nrlm National Rural Livelihood Mission</td>\n",
       "    </tr>\n",
       "    <tr>\n",
       "      <th>1</th>\n",
       "      <td>1377</td>\n",
       "      <td>14</td>\n",
       "      <td>Rural Development and Panchayat Raj</td>\n",
       "      <td>14.1</td>\n",
       "      <td>Skill Development and Self Employment at the e...</td>\n",
       "      <td>Cif Community Investment Fund to groups,Nrlm N...</td>\n",
       "    </tr>\n",
       "    <tr>\n",
       "      <th>2</th>\n",
       "      <td>1378</td>\n",
       "      <td>14</td>\n",
       "      <td>Rural Development and Panchayat Raj</td>\n",
       "      <td>14.1</td>\n",
       "      <td>Skill Development and Self Employment at the e...</td>\n",
       "      <td>Employment through skill training placement Es...</td>\n",
       "    </tr>\n",
       "    <tr>\n",
       "      <th>3</th>\n",
       "      <td>1379</td>\n",
       "      <td>14</td>\n",
       "      <td>Rural Development and Panchayat Raj</td>\n",
       "      <td>14.1</td>\n",
       "      <td>Skill Development and Self Employment at the e...</td>\n",
       "      <td>Persons Skilled,Self Employment Programme,Empl...</td>\n",
       "    </tr>\n",
       "    <tr>\n",
       "      <th>4</th>\n",
       "      <td>1380</td>\n",
       "      <td>14</td>\n",
       "      <td>Rural Development and Panchayat Raj</td>\n",
       "      <td>14.1</td>\n",
       "      <td>Skill Development and Self Employment at the e...</td>\n",
       "      <td>Groups Skilled,Self Employment Programme,Emplo...</td>\n",
       "    </tr>\n",
       "    <tr>\n",
       "      <th>...</th>\n",
       "      <td>...</td>\n",
       "      <td>...</td>\n",
       "      <td>...</td>\n",
       "      <td>...</td>\n",
       "      <td>...</td>\n",
       "      <td>...</td>\n",
       "    </tr>\n",
       "    <tr>\n",
       "      <th>1548</th>\n",
       "      <td>829</td>\n",
       "      <td>5</td>\n",
       "      <td>Fisheries</td>\n",
       "      <td>5.4</td>\n",
       "      <td>Fisheries 2019-20</td>\n",
       "      <td>Full Time,No of Families involved in fishing</td>\n",
       "    </tr>\n",
       "    <tr>\n",
       "      <th>1549</th>\n",
       "      <td>830</td>\n",
       "      <td>5</td>\n",
       "      <td>Fisheries</td>\n",
       "      <td>5.4</td>\n",
       "      <td>Fisheries 2019-20</td>\n",
       "      <td>Part Time,No of Families involved in fishing</td>\n",
       "    </tr>\n",
       "    <tr>\n",
       "      <th>1550</th>\n",
       "      <td>831</td>\n",
       "      <td>5</td>\n",
       "      <td>Fisheries</td>\n",
       "      <td>5.4</td>\n",
       "      <td>Fisheries 2019-20</td>\n",
       "      <td>No. of Beneficiaries under Matsyashraya Yojane</td>\n",
       "    </tr>\n",
       "    <tr>\n",
       "      <th>1551</th>\n",
       "      <td>832</td>\n",
       "      <td>5</td>\n",
       "      <td>Fisheries</td>\n",
       "      <td>5.4</td>\n",
       "      <td>Fisheries 2019-20</td>\n",
       "      <td>No of Fishlets In Lakhs</td>\n",
       "    </tr>\n",
       "    <tr>\n",
       "      <th>1552</th>\n",
       "      <td>833</td>\n",
       "      <td>5</td>\n",
       "      <td>Fisheries</td>\n",
       "      <td>5.4</td>\n",
       "      <td>Fisheries 2019-20</td>\n",
       "      <td>No of Fish Markets</td>\n",
       "    </tr>\n",
       "  </tbody>\n",
       "</table>\n",
       "<p>1553 rows × 6 columns</p>\n",
       "</div>"
      ],
      "text/plain": [
       "      Attr_id  Chapter_id                         Chapter_name Table_id  \\\n",
       "0        1376          14  Rural Development and Panchayat Raj     14.1   \n",
       "1        1377          14  Rural Development and Panchayat Raj     14.1   \n",
       "2        1378          14  Rural Development and Panchayat Raj     14.1   \n",
       "3        1379          14  Rural Development and Panchayat Raj     14.1   \n",
       "4        1380          14  Rural Development and Panchayat Raj     14.1   \n",
       "...       ...         ...                                  ...      ...   \n",
       "1548      829           5                            Fisheries      5.4   \n",
       "1549      830           5                            Fisheries      5.4   \n",
       "1550      831           5                            Fisheries      5.4   \n",
       "1551      832           5                            Fisheries      5.4   \n",
       "1552      833           5                            Fisheries      5.4   \n",
       "\n",
       "                                             Table_name  \\\n",
       "0     Skill Development and Self Employment at the e...   \n",
       "1     Skill Development and Self Employment at the e...   \n",
       "2     Skill Development and Self Employment at the e...   \n",
       "3     Skill Development and Self Employment at the e...   \n",
       "4     Skill Development and Self Employment at the e...   \n",
       "...                                                 ...   \n",
       "1548                                  Fisheries 2019-20   \n",
       "1549                                  Fisheries 2019-20   \n",
       "1550                                  Fisheries 2019-20   \n",
       "1551                                  Fisheries 2019-20   \n",
       "1552                                  Fisheries 2019-20   \n",
       "\n",
       "                                            Description  \n",
       "0        Ddu-gky,Nrlm National Rural Livelihood Mission  \n",
       "1     Cif Community Investment Fund to groups,Nrlm N...  \n",
       "2     Employment through skill training placement Es...  \n",
       "3     Persons Skilled,Self Employment Programme,Empl...  \n",
       "4     Groups Skilled,Self Employment Programme,Emplo...  \n",
       "...                                                 ...  \n",
       "1548       Full Time,No of Families involved in fishing  \n",
       "1549       Part Time,No of Families involved in fishing  \n",
       "1550     No. of Beneficiaries under Matsyashraya Yojane  \n",
       "1551                            No of Fishlets In Lakhs  \n",
       "1552                                 No of Fish Markets  \n",
       "\n",
       "[1553 rows x 6 columns]"
      ]
     },
     "execution_count": 5,
     "metadata": {},
     "output_type": "execute_result"
    }
   ],
   "source": [
    "# Concatenate all DataFrames into a single DataFrame\n",
    "merged_df = pd.concat(dfs, ignore_index=True)\n",
    "\n",
    "# Display the merged DataFrame\n",
    "merged_df.columns = ['Attr_id', 'Chapter_id', 'Chapter_name', 'Table_id', 'Table_name', 'Description']\n",
    "merged_df"
   ]
  },
  {
   "cell_type": "code",
   "execution_count": 6,
   "id": "ed3aeeff",
   "metadata": {},
   "outputs": [],
   "source": [
    "merged_df = merged_df.sort_values(by=['Attr_id'])\n",
    "merged_df.to_csv('/home/riya/Downloads/ADT/2019-20/Dictionary/Attributes_2019-20.csv', sep=';', index=False)"
   ]
  },
  {
   "cell_type": "code",
   "execution_count": 7,
   "id": "78c0b46c",
   "metadata": {},
   "outputs": [
    {
     "name": "stdout",
     "output_type": "stream",
     "text": [
      "156\n",
      "157\n",
      "158\n",
      "159\n",
      "160\n",
      "161\n",
      "162\n"
     ]
    }
   ],
   "source": [
    "for i in range(3,1562):\n",
    "    if i not in set(merged_df['Attr_id']):\n",
    "       print(i)"
   ]
  },
  {
   "cell_type": "markdown",
   "id": "7f4d55e1",
   "metadata": {},
   "source": [
    "These columns are not present as they have \"Age group\" data"
   ]
  },
  {
   "cell_type": "code",
   "execution_count": null,
   "id": "e6a3b69c",
   "metadata": {},
   "outputs": [],
   "source": []
  }
 ],
 "metadata": {
  "kernelspec": {
   "display_name": "Python 3 (ipykernel)",
   "language": "python",
   "name": "python3"
  },
  "language_info": {
   "codemirror_mode": {
    "name": "ipython",
    "version": 3
   },
   "file_extension": ".py",
   "mimetype": "text/x-python",
   "name": "python",
   "nbconvert_exporter": "python",
   "pygments_lexer": "ipython3",
   "version": "3.10.12"
  }
 },
 "nbformat": 4,
 "nbformat_minor": 5
}
